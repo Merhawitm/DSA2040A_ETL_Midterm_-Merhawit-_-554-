{
 "cells": [
  {
   "cell_type": "code",
   "execution_count": 84,
   "id": "88ba94d9",
   "metadata": {},
   "outputs": [],
   "source": [
    "# Import required libraries\n",
    "import pandas as pd  # Primary data manipulation library\n",
    "import numpy as np   # Numerical operations\n",
    "from pathlib import Path  # Object-oriented filesystem paths\n",
    "from datetime import datetime  # Date/time handling\n",
    "import os                           # For file and folder operations\n",
    "import matplotlib.pyplot as plt     # For plotting graphs\n",
    "import seaborn as sns               # For advanced data visualizations\n",
    "# Create a folder to save transformed files if it doesn't already exist\n",
    "os.makedirs(\"transformed\", exist_ok=True)\n"
   ]
  },
  {
   "cell_type": "markdown",
   "id": "663ebb4c",
   "metadata": {},
   "source": [
    "# 1. Transforming raw_data.csv\n",
    "#### 1.1 Load the Cleaned Raw Data"
   ]
  },
  {
   "cell_type": "code",
   "execution_count": 85,
   "id": "4e0b19ff",
   "metadata": {},
   "outputs": [],
   "source": [
    "# Load the cleaned raw dataset from the 'data' directory\n",
    "raw_df = pd.read_csv(\"data/raw_data_cleaned.csv\")\n"
   ]
  },
  {
   "cell_type": "code",
   "execution_count": 86,
   "id": "cd825795",
   "metadata": {},
   "outputs": [
    {
     "name": "stdout",
     "output_type": "stream",
     "text": [
      "Raw Data loaded successfully with shape (100, 7)\n"
     ]
    }
   ],
   "source": [
    "# Add validation to check successful loading of a DataFrame\n",
    "def validate_load(df, name):\n",
    "    # Check if the DataFrame is empty (has no rows or columns)\n",
    "    if df.empty:\n",
    "        # Raise an error if no data was loaded\n",
    "        raise ValueError(f\"{name} DataFrame is empty!\")\n",
    "    \n",
    "    # If the DataFrame is not empty, print a success message with its shape\n",
    "    print(f\"{name} loaded successfully with shape {df.shape}\")\n",
    "\n",
    "# Call the validation function to verify the raw_df was loaded correctly\n",
    "validate_load(raw_df, \"Raw Data\")\n"
   ]
  },
  {
   "cell_type": "markdown",
   "id": "b3ecacc3",
   "metadata": {},
   "source": [
    "#### 1.2 Remove Duplicate Rows"
   ]
  },
  {
   "cell_type": "code",
   "execution_count": 87,
   "id": "d81fa756",
   "metadata": {},
   "outputs": [
    {
     "name": "stdout",
     "output_type": "stream",
     "text": [
      "Duplicates in raw_df before: 1\n",
      "Duplicates in raw_df after: 0\n"
     ]
    }
   ],
   "source": [
    "# Print the number of duplicate rows before removing\n",
    "print(\"Duplicates in raw_df before:\", raw_df.duplicated().sum())\n",
    "\n",
    "# Drop any duplicate rows in the DataFrame\n",
    "raw_df = raw_df.drop_duplicates()\n",
    "\n",
    "# Print the number of duplicate rows after removing\n",
    "print(\"Duplicates in raw_df after:\", raw_df.duplicated().sum())\n"
   ]
  },
  {
   "cell_type": "code",
   "execution_count": 88,
   "id": "77a955ef",
   "metadata": {},
   "outputs": [],
   "source": [
    "# Define a function to visualize missing values using a bar plot\n",
    "def plot_missing_values(df, title):\n",
    "    missing = df.isnull().sum()\n",
    "    missing = missing[missing > 0].sort_values(ascending=False)\n",
    "    \n",
    "    plt.figure(figsize=(8, 5))\n",
    "    sns.barplot(x=missing.values, y=missing.index, palette=\"viridis\")\n",
    "    plt.title(title)\n",
    "    plt.xlabel(\"Missing Values Count\")\n",
    "    plt.ylabel(\"Columns\")\n",
    "    plt.tight_layout()\n",
    "    plt.show()\n",
    "  \n"
   ]
  },
  {
   "cell_type": "markdown",
   "id": "f5081942",
   "metadata": {},
   "source": [
    "#### 1.3 Handle Missing Values"
   ]
  },
  {
   "cell_type": "code",
   "execution_count": 89,
   "id": "6cb2536c",
   "metadata": {},
   "outputs": [
    {
     "name": "stdout",
     "output_type": "stream",
     "text": [
      "Missing values in raw_df before:\n",
      " order_id          0\n",
      "customer_name     1\n",
      "product           0\n",
      "quantity         26\n",
      "unit_price       35\n",
      "order_date        1\n",
      "region           25\n",
      "dtype: int64\n",
      "Missing values in raw_df AFTER handling:\n",
      " order_id         0\n",
      "customer_name    0\n",
      "product          0\n",
      "quantity         0\n",
      "unit_price       0\n",
      "order_date       0\n",
      "region           0\n",
      "dtype: int64\n"
     ]
    }
   ],
   "source": [
    "# Display how many missing values each column has before cleaning\n",
    "print(\"Missing values in raw_df before:\\n\", raw_df.isnull().sum())\n",
    "\n",
    "# 1. Fill missing 'quantity' with the column mean\n",
    "raw_df[\"quantity\"] = raw_df[\"quantity\"].fillna(raw_df[\"quantity\"].mean())\n",
    "\n",
    "# 2. Fill missing 'unit_price' using median grouped by 'product'\n",
    "raw_df[\"unit_price\"] = raw_df.groupby(\"product\")[\"unit_price\"].transform(\n",
    "    lambda x: x.fillna(x.median())\n",
    ")\n",
    "\n",
    "# 3. Fill missing 'customer_name' with 'Unknown'\n",
    "raw_df[\"customer_name\"] = raw_df[\"customer_name\"].fillna(\"Unknown\")\n",
    "\n",
    "# 4. Drop rows where 'order_date' is missing\n",
    "raw_df = raw_df.dropna(subset=[\"order_date\"])\n",
    "\n",
    "# 5. Fill missing 'region' with 'Not Specified'\n",
    "raw_df[\"region\"] = raw_df[\"region\"].fillna(\"Not Specified\")\n",
    "\n",
    "# Show the updated missing values\n",
    "print(\"Missing values in raw_df AFTER handling:\\n\", raw_df.isnull().sum())\n"
   ]
  },
  {
   "cell_type": "markdown",
   "id": "81f3e651",
   "metadata": {},
   "source": [
    "# Full Dataset (raw_df) – Handling Missing Data\n",
    "##### 1. quantity: Filled with the mean value\n",
    "Why:\n",
    "quantity is a numeric column representing the amount of items ordered. Using the mean ensures that we preserve the average buying behavior without distorting the dataset. It helps maintain data continuity for calculations like total sales.\n",
    "\n",
    "##### 2. unit_price : Filled using the median within each product group\n",
    "Why:\n",
    "Prices vary by product. Using the median within each product category helps avoid the influence of outliers and reflects a more accurate and realistic typical price for each product. This preserves pricing accuracy.\n",
    "\n",
    "##### 3. customer_name: Filled with \"Unknown\"\n",
    "Why:\n",
    "Since the name identifies the customer but doesn’t affect numeric analysis, using \"Unknown\" keeps the record usable while signaling that identity is missing. It also prevents unnecessary row deletion, especially when the rest of the data is valid.\n",
    "\n",
    "##### 4. order_date : Dropped (only 1 record was missing)\n",
    "Why:\n",
    "Dates are essential for time-based insights (like trends, daily sales, etc.). With only one missing value, dropping the row avoids misleading time-based analysis while having minimal impact on overall data quantity.\n",
    "\n",
    "##### 5. region : Filled with \"Not Specified\"\n",
    "Why:\n",
    "Since region is a categorical variable, inserting \"Not Specified\" clearly indicates missing information without falsely assigning a known location. This allows regional grouping and analysis without losing any records."
   ]
  },
  {
   "cell_type": "markdown",
   "id": "a2cb3dc3",
   "metadata": {},
   "source": [
    "#### 1.4 Add total_price Column"
   ]
  },
  {
   "cell_type": "code",
   "execution_count": 90,
   "id": "8204971f",
   "metadata": {},
   "outputs": [
    {
     "name": "stdout",
     "output_type": "stream",
     "text": [
      "   quantity  unit_price  total_price\n",
      "0  1.958904       500.0   979.452055\n",
      "1  1.958904       250.0   489.726027\n",
      "2  2.000000       250.0   500.000000\n",
      "3  2.000000       750.0  1500.000000\n",
      "4  3.000000       500.0  1500.000000\n"
     ]
    }
   ],
   "source": [
    "# Create a new column called 'total_price' by multiplying quantity and unit_price\n",
    "raw_df[\"total_price\"] = raw_df[\"quantity\"] * raw_df[\"unit_price\"]\n",
    "\n",
    "# Show a preview of the new 'total_price' column alongside input columns\n",
    "print(raw_df[[\"quantity\", \"unit_price\", \"total_price\"]].head())\n"
   ]
  },
  {
   "cell_type": "markdown",
   "id": "bc194c1b",
   "metadata": {},
   "source": [
    "#### 1.5 Convert Order Date to Date Format"
   ]
  },
  {
   "cell_type": "code",
   "execution_count": 91,
   "id": "91c4b449",
   "metadata": {},
   "outputs": [
    {
     "name": "stdout",
     "output_type": "stream",
     "text": [
      "Converted order_date type (raw_df): datetime64[ns]\n"
     ]
    }
   ],
   "source": [
    "# Convert 'order_date' column from string to datetime format\n",
    "raw_df[\"order_date\"] = pd.to_datetime(raw_df[\"order_date\"], errors=\"coerce\")\n",
    "\n",
    "# Print the data type to confirm successful conversion\n",
    "print(\"Converted order_date type (raw_df):\", raw_df[\"order_date\"].dtype)\n"
   ]
  },
  {
   "cell_type": "markdown",
   "id": "6af9bf5f",
   "metadata": {},
   "source": [
    "#### 1.6 Drop Unnecessary Columns"
   ]
  },
  {
   "cell_type": "code",
   "execution_count": 92,
   "id": "dc3dcd0d",
   "metadata": {},
   "outputs": [
    {
     "name": "stdout",
     "output_type": "stream",
     "text": [
      "raw_df columns BEFORE cleanup:\n",
      " Index(['order_id', 'customer_name', 'product', 'quantity', 'unit_price',\n",
      "       'order_date', 'region', 'total_price'],\n",
      "      dtype='object')\n",
      "raw_df columns after cleanup:\n",
      " Index(['order_id', 'customer_name', 'product', 'quantity', 'unit_price',\n",
      "       'order_date', 'region', 'total_price'],\n",
      "      dtype='object')\n"
     ]
    }
   ],
   "source": [
    "# Print columns before dropping 'Unnamed' ones\n",
    "print(\"raw_df columns BEFORE cleanup:\\n\", raw_df.columns)\n",
    "\n",
    "# Remove any columns that have names like 'Unnamed', which are often auto-generated\n",
    "raw_df = raw_df.loc[:, ~raw_df.columns.str.contains(\"^Unnamed\")]\n",
    "\n",
    "# Print final list of columns to confirm cleanup\n",
    "print(\"raw_df columns after cleanup:\\n\", raw_df.columns)\n"
   ]
  },
  {
   "cell_type": "code",
   "execution_count": 93,
   "id": "e856ff58",
   "metadata": {},
   "outputs": [
    {
     "name": "stdout",
     "output_type": "stream",
     "text": [
      "  customer_name  total_price customer_tier order_date purchase_day\n",
      "0         Diana   979.452055        Silver 2024-01-20     Saturday\n",
      "1           Eve   489.726027        Bronze 2024-04-29       Monday\n",
      "2       Charlie   500.000000        Bronze 2024-01-08       Monday\n",
      "3           Eve  1500.000000          Gold 2024-01-07       Sunday\n",
      "4           Eve  1500.000000          Gold 2024-03-07     Thursday\n"
     ]
    }
   ],
   "source": [
    "\n",
    "# Make sure 'total_price' has no missing values before processing\n",
    "raw_df['total_price'] = raw_df['total_price'].fillna(0)\n",
    "\n",
    "# Try to segment customers into 3 tiers based on how much they spend\n",
    "try:\n",
    "    # Split total_price into 3 quantile-based bins: Bronze, Silver, Gold\n",
    "    raw_df['customer_tier'] = pd.qcut(\n",
    "        raw_df['total_price'],\n",
    "        q=3,\n",
    "        labels=['Bronze', 'Silver', 'Gold'],\n",
    "        duplicates='drop'  # Handle identical edges safely\n",
    "    )\n",
    "except ValueError:\n",
    "    # If qcut fails (e.g. too many duplicate values), add small noise to break ties\n",
    "    raw_df['total_price'] += np.random.uniform(-0.001, 0.001, len(raw_df))\n",
    "\n",
    "    # Retry customer segmentation\n",
    "    raw_df['customer_tier'] = pd.qcut(\n",
    "        raw_df['total_price'],\n",
    "        q=3,\n",
    "        labels=['Bronze', 'Silver', 'Gold']\n",
    "    )\n",
    "\n",
    "# Extract the weekday name from the order_date (e.g., 'Monday', 'Tuesday', etc.)\n",
    "raw_df['purchase_day'] = pd.to_datetime(raw_df['order_date']).dt.day_name()\n",
    "# Display the first few rows of relevant new columns\n",
    "print(raw_df[['customer_name', 'total_price', 'customer_tier', 'order_date', 'purchase_day']].head())\n",
    "\n"
   ]
  },
  {
   "cell_type": "code",
   "execution_count": 94,
   "id": "90774238",
   "metadata": {},
   "outputs": [],
   "source": [
    "# VALIDATION FUNCTION \n",
    "def validate_transforms(df, name):\n",
    "    \"\"\"Enhanced validation checks with proper error handling\"\"\"\n",
    "    \n",
    "    # Print the start of validation for the specific DataFrame\n",
    "    print(f\"\\n=== VALIDATING {name} ===\")\n",
    "    \n",
    "    try:\n",
    "        # 1. Check for duplicate rows\n",
    "        # Duplicates can skew analysis, so we raise an error if any are found\n",
    "        if df.duplicated().any():\n",
    "            raise ValueError(\"Duplicate rows exist\")\n",
    "        \n",
    "        # 2. Check for missing values in key columns\n",
    "        # Ensure essential columns are complete (no NaN)\n",
    "        for col in ['customer_id', 'total_price', 'order_date']:\n",
    "            if col in df.columns and df[col].isnull().any():\n",
    "                raise ValueError(f\"Null values found in {col}\")\n",
    "        \n",
    "        # 3. Check for expected customer tiers if the column exists\n",
    "        # This confirms the segmentation logic has been applied correctly\n",
    "        if 'customer_tier' in df.columns:\n",
    "            # Drop any nulls before comparing to expected tiers\n",
    "            existing_tiers = set(df['customer_tier'].dropna().unique())\n",
    "            expected_tiers = {'Bronze', 'Silver', 'Gold'}\n",
    "            if existing_tiers != expected_tiers:\n",
    "                raise ValueError(\n",
    "                    f\"Customer tiers mismatch. Found {existing_tiers}, expected {expected_tiers}\"\n",
    "                )\n",
    "        \n",
    "        # If all checks pass, confirm validation success\n",
    "        print(f\" {name} passed all validation checks\")\n",
    "        return True\n",
    "    \n",
    "    except Exception as e:\n",
    "        # If any validation check fails, print a descriptive error message\n",
    "        print(f\" Validation failed for {name}: {str(e)}\")\n"
   ]
  },
  {
   "cell_type": "code",
   "execution_count": 95,
   "id": "041cfd4f",
   "metadata": {},
   "outputs": [
    {
     "data": {
      "image/png": "[encoded data removed]",
      "text/plain": [
       "<Figure size 800x500 with 1 Axes>"
      ]
     },
     "metadata": {},
     "output_type": "display_data"
    }
   ],
   "source": [
    "# Ensure 'total_price' exists\n",
    "raw_df[\"total_price\"] = raw_df[\"quantity\"] * raw_df[\"unit_price\"]\n",
    "\n",
    "# Plot spending distribution\n",
    "plt.figure(figsize=(8, 5))\n",
    "sns.histplot(raw_df[\"total_price\"], bins=30, kde=True, color=\"teal\")\n",
    "plt.title(\"Customer Spending Distribution\")\n",
    "plt.xlabel(\"Total Price\")\n",
    "plt.ylabel(\"Frequency\")\n",
    "plt.tight_layout()\n",
    "plt.show()\n"
   ]
  },
  {
   "cell_type": "code",
   "execution_count": 96,
   "id": "1657a07b",
   "metadata": {},
   "outputs": [
    {
     "data": {
      "image/png": "[encoded data removed]",
      "text/plain": [
       "<Figure size 800x500 with 1 Axes>"
      ]
     },
     "metadata": {},
     "output_type": "display_data"
    }
   ],
   "source": [
    "# Total sales grouped by day of week\n",
    "sales_by_day = raw_df.groupby(\"purchase_day\")[\"total_price\"].sum().reindex(\n",
    "    [\"Monday\", \"Tuesday\", \"Wednesday\", \"Thursday\", \"Friday\", \"Saturday\", \"Sunday\"]\n",
    ")\n",
    "\n",
    "# Plot the results\n",
    "sales_by_day.plot(kind=\"bar\", color=\"coral\", figsize=(8, 5))\n",
    "plt.title(\"Total Sales by Day of Week\")\n",
    "plt.xlabel(\"Day\")\n",
    "plt.ylabel(\"Total Sales\")\n",
    "plt.tight_layout()\n",
    "plt.show()\n"
   ]
  },
  {
   "cell_type": "markdown",
   "id": "8f626f30",
   "metadata": {},
   "source": [
    "#### 1.7 Save the Transformed Dataset"
   ]
  },
  {
   "cell_type": "code",
   "execution_count": 97,
   "id": "311a3fd5",
   "metadata": {},
   "outputs": [
    {
     "name": "stdout",
     "output_type": "stream",
     "text": [
      "raw_df saved as transformed_full.csv\n"
     ]
    }
   ],
   "source": [
    "# Save the cleaned and transformed DataFrame as a new CSV file\n",
    "raw_df.to_csv(\"transformed/transformed_full.csv\", index=False)\n",
    "\n",
    "# Confirm the file has been saved successfully\n",
    "print(\"raw_df saved as transformed_full.csv\")\n"
   ]
  },
  {
   "cell_type": "markdown",
   "id": "e2f3fb83",
   "metadata": {},
   "source": [
    "# 2. Transforming incremental_data.csv\n",
    "#### 2.1 Load the Cleaned Incremental Data"
   ]
  },
  {
   "cell_type": "code",
   "execution_count": 98,
   "id": "0bbcd2e2",
   "metadata": {},
   "outputs": [],
   "source": [
    "# Load the cleaned incremental dataset from the 'data' directory\n",
    "incr_df = pd.read_csv(\"data/incremental_data_cleaned.csv\")\n"
   ]
  },
  {
   "cell_type": "code",
   "execution_count": 99,
   "id": "95ba87d5",
   "metadata": {},
   "outputs": [
    {
     "name": "stdout",
     "output_type": "stream",
     "text": [
      "Incremental Data loaded successfully with shape (98, 10)\n"
     ]
    }
   ],
   "source": [
    "\n",
    "validate_load(raw_df, \"Incremental Data\")"
   ]
  },
  {
   "cell_type": "code",
   "execution_count": 100,
   "id": "127196ff",
   "metadata": {},
   "outputs": [
    {
     "name": "stdout",
     "output_type": "stream",
     "text": [
      "Incremental Data loaded successfully with shape (10, 7)\n"
     ]
    }
   ],
   "source": [
    "# Add validation\n",
    "def validate_load(df, name):\n",
    "    # Check if the DataFrame is empty\n",
    "    if df.empty:\n",
    "        # Raise an error if no data is present\n",
    "        raise ValueError(f\"{name} DataFrame is empty!\")\n",
    "    \n",
    "    # If data exists, print a success message with its shape (rows, columns)\n",
    "    print(f\"{name} loaded successfully with shape {df.shape}\")\n",
    "\n",
    "# Run the validation function for the incremental dataset\n",
    "validate_load(incr_df, \"Incremental Data\")\n"
   ]
  },
  {
   "cell_type": "markdown",
   "id": "6e51952b",
   "metadata": {},
   "source": [
    "#### 2.2 Remove Duplicate Rows"
   ]
  },
  {
   "cell_type": "code",
   "execution_count": 101,
   "id": "9549c95c",
   "metadata": {},
   "outputs": [
    {
     "name": "stdout",
     "output_type": "stream",
     "text": [
      "Duplicates in incr_df before: 0\n",
      "Duplicates in incr_df after: 0\n"
     ]
    }
   ],
   "source": [
    "# Print the number of duplicate rows before removing\n",
    "print(\"Duplicates in incr_df before:\", incr_df.duplicated().sum())\n",
    "\n",
    "# Remove duplicate rows if any exist\n",
    "incr_df = incr_df.drop_duplicates()\n",
    "\n",
    "# Print the number of duplicates remaining (should be 0)\n",
    "print(\"Duplicates in incr_df after:\", incr_df.duplicated().sum())\n"
   ]
  },
  {
   "cell_type": "markdown",
   "id": "ef504734",
   "metadata": {},
   "source": [
    "#### 2.3 Handle Missing Values"
   ]
  },
  {
   "cell_type": "code",
   "execution_count": 102,
   "id": "4354b69b",
   "metadata": {},
   "outputs": [
    {
     "name": "stdout",
     "output_type": "stream",
     "text": [
      "Missing values in incr_df BEFORE handling:\n",
      " order_id         0\n",
      "customer_name    6\n",
      "product          0\n",
      "quantity         4\n",
      "unit_price       0\n",
      "order_date       0\n",
      "region           2\n",
      "dtype: int64\n",
      "Missing values in incr_df AFTER handling:\n",
      " order_id         0\n",
      "customer_name    0\n",
      "product          0\n",
      "quantity         0\n",
      "unit_price       0\n",
      "order_date       0\n",
      "region           0\n",
      "dtype: int64\n"
     ]
    }
   ],
   "source": [
    "# Display how many missing values each column has before cleaning\n",
    "print(\"Missing values in incr_df BEFORE handling:\\n\", incr_df.isnull().sum())\n",
    "\n",
    "# Fill missing 'quantity' values with the mean\n",
    "quantity_mean = incr_df[\"quantity\"].mean()\n",
    "incr_df[\"quantity\"] = incr_df[\"quantity\"].fillna(quantity_mean)\n",
    "\n",
    "# Fill missing 'customer_name' values with 'Unknown'\n",
    "incr_df[\"customer_name\"] = incr_df[\"customer_name\"].fillna(\"Unknown\")\n",
    "\n",
    "# Fill missing 'region' values with 'Not Specified'\n",
    "incr_df[\"region\"] = incr_df[\"region\"].fillna(\"Not Specified\")\n",
    "\n",
    "# Display how many missing values each column has after cleaning\n",
    "print(\"Missing values in incr_df AFTER handling:\\n\", incr_df.isnull().sum())\n"
   ]
  },
  {
   "cell_type": "markdown",
   "id": "4c7c9723",
   "metadata": {},
   "source": [
    " # Incremental Dataset (incr_df) – Handling Missing Data\n",
    "#### 1. quantity : Filled with the mean value\n",
    "Why:\n",
    "For the same reasons as in the full dataset — to preserve average purchase patterns and allow accurate calculation of sales values.\n",
    "\n",
    "#### 2. customer_name : Filled with \"Unknown\"\n",
    "Why:\n",
    "Helps retain transactions where identity is missing but other data (like what and how much was bought) remains relevant and usable.\n",
    "\n",
    "#### 3. region : Filled with \"Not Specified\"\n",
    "Why:\n",
    "Retains geographic fields without making incorrect assumptions. Helps prevent skewing regional summaries or analytics.\n",
    "\n",
    " No missing values in unit_price, product, or order_date in the incremental dataset, so no action was needed for those."
   ]
  },
  {
   "cell_type": "markdown",
   "id": "7dc43a9c",
   "metadata": {},
   "source": [
    "#### 2.4 Add total_price Column"
   ]
  },
  {
   "cell_type": "code",
   "execution_count": 103,
   "id": "fa9e1518",
   "metadata": {},
   "outputs": [
    {
     "name": "stdout",
     "output_type": "stream",
     "text": [
      "   quantity  unit_price  total_price\n",
      "0       1.5       900.0       1350.0\n",
      "1       1.0       300.0        300.0\n",
      "2       1.0       600.0        600.0\n",
      "3       1.5       300.0        450.0\n",
      "4       2.0       600.0       1200.0\n"
     ]
    }
   ],
   "source": [
    "# Add a 'total_price' column for later analysis\n",
    "incr_df[\"total_price\"] = incr_df[\"quantity\"] * incr_df[\"unit_price\"]\n",
    "\n",
    "# Preview the new column\n",
    "print(incr_df[[\"quantity\", \"unit_price\", \"total_price\"]].head())\n"
   ]
  },
  {
   "cell_type": "markdown",
   "id": "a99f8a62",
   "metadata": {},
   "source": [
    "#### 2.5 Convert Order Date to Date Format"
   ]
  },
  {
   "cell_type": "code",
   "execution_count": 104,
   "id": "b44c570e",
   "metadata": {},
   "outputs": [
    {
     "name": "stdout",
     "output_type": "stream",
     "text": [
      "Converted order_date type (incr_df): datetime64[ns]\n"
     ]
    }
   ],
   "source": [
    "# Convert 'order_date' to proper datetime format\n",
    "incr_df[\"order_date\"] = pd.to_datetime(incr_df[\"order_date\"], errors=\"coerce\")\n",
    "\n",
    "# Check the data type after conversion\n",
    "print(\"Converted order_date type (incr_df):\", incr_df[\"order_date\"].dtype)\n"
   ]
  },
  {
   "cell_type": "markdown",
   "id": "b052b4b2",
   "metadata": {},
   "source": [
    "#### 2.6 Drop Unnecessary Columns"
   ]
  },
  {
   "cell_type": "code",
   "execution_count": 105,
   "id": "b4adda7f",
   "metadata": {},
   "outputs": [
    {
     "name": "stdout",
     "output_type": "stream",
     "text": [
      "raw_df columns BEFORE cleanup:\n",
      " Index(['order_id', 'customer_name', 'product', 'quantity', 'unit_price',\n",
      "       'order_date', 'region', 'total_price', 'customer_tier', 'purchase_day'],\n",
      "      dtype='object')\n",
      "incr_df columns after cleanup:\n",
      " Index(['order_id', 'customer_name', 'product', 'quantity', 'unit_price',\n",
      "       'order_date', 'region', 'total_price'],\n",
      "      dtype='object')\n"
     ]
    }
   ],
   "source": [
    "# Print columns before dropping 'Unnamed' ones\n",
    "print(\"raw_df columns BEFORE cleanup:\\n\", raw_df.columns)\n",
    "\n",
    "# Remove extra unnamed columns often created during CSV saves\n",
    "incr_df = incr_df.loc[:, ~incr_df.columns.str.contains(\"^Unnamed\")]\n",
    "\n",
    "# Confirm final column structure\n",
    "print(\"incr_df columns after cleanup:\\n\", incr_df.columns)\n"
   ]
  },
  {
   "cell_type": "code",
   "execution_count": 106,
   "id": "a3140900",
   "metadata": {},
   "outputs": [],
   "source": [
    "# Create a new column 'purchase_period' based on the hour of the order\n",
    "# It categorizes the time into Morning (<12), Afternoon (12–16), and Evening (17+)\n",
    "incr_df['purchase_period'] = incr_df['order_date'].dt.hour.apply(\n",
    "    lambda x: 'Morning' if x < 12 else 'Afternoon' if x < 17 else 'Evening'\n",
    ")\n",
    "\n",
    "# Create a boolean column 'is_weekend' to indicate if the purchase was made on a weekend (Saturday=5, Sunday=6)\n",
    "incr_df['is_weekend'] = incr_df['order_date'].dt.weekday >= 5\n"
   ]
  },
  {
   "cell_type": "code",
   "execution_count": 107,
   "id": "35548800",
   "metadata": {},
   "outputs": [],
   "source": [
    "def validate_transforms(df, name):\n",
    "    \"\"\"Enhanced validation checks to ensure data integrity after transformation\"\"\"\n",
    "    \n",
    "    # Print a header to indicate the start of validation for the given dataset\n",
    "    print(f\"\\n=== VALIDATING {name.upper()} ===\")\n",
    "    \n",
    "    # Check if there are any duplicate rows in the dataset\n",
    "    # This ensures we didn't accidentally introduce or leave duplicates\n",
    "    assert not df.duplicated().any(), \"Duplicate rows exist\"\n",
    "\n",
    "    # Check for null values in important (key) columns: 'customer_id', 'total_price', and 'order_date'\n",
    "    # These fields are essential for analysis and reporting; nulls would cause errors or misleading results\n",
    "    for col in ['customer_id', 'total_price', 'order_date']:\n",
    "        if col in df.columns:\n",
    "            assert not df[col].isnull().any(), f\"Nulls found in {col}\"\n",
    "\n",
    "    # If the 'customer_tier' column exists, check that it only contains the expected category labels\n",
    "    # Ensures the segmentation logic worked as intended\n",
    "    if 'customer_tier' in df.columns:\n",
    "        assert set(df['customer_tier'].unique()) == {'Bronze', 'Silver', 'Gold'}, \"Tiers incorrect\"\n",
    "\n",
    "    # Final confirmation that all validation checks passed\n",
    "    print(f\" {name} passed all validation checks\")\n"
   ]
  },
  {
   "cell_type": "markdown",
   "id": "d8594e81",
   "metadata": {},
   "source": [
    "#### 2.7 Save the Transformed Dataset"
   ]
  },
  {
   "cell_type": "code",
   "execution_count": 108,
   "id": "35595a17",
   "metadata": {},
   "outputs": [
    {
     "name": "stdout",
     "output_type": "stream",
     "text": [
      "incr_df saved as transformed_incremental.csv\n"
     ]
    }
   ],
   "source": [
    "# Save the cleaned and transformed incremental dataset\n",
    "incr_df.to_csv(\"transformed/transformed_incremental.csv\", index=False)\n",
    "\n",
    "# Confirm the file was saved\n",
    "print(\"incr_df saved as transformed_incremental.csv\")\n"
   ]
  }
 ],
 "metadata": {
  "kernelspec": {
   "display_name": "Python 3",
   "language": "python",
   "name": "python3"
  },
  "language_info": {
   "codemirror_mode": {
    "name": "ipython",
    "version": 3
   },
   "file_extension": ".py",
   "mimetype": "text/x-python",
   "name": "python",
   "nbconvert_exporter": "python",
   "pygments_lexer": "ipython3",
   "version": "3.12.10"
  }
 },
 "nbformat": 4,
 "nbformat_minor": 5
}
