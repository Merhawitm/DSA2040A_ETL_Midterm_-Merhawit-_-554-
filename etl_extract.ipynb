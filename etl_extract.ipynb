{
 "cells": [
  {
   "cell_type": "markdown",
   "id": "40074f20",
   "metadata": {},
   "source": [
    "#mport Libraries"
   ]
  },
  {
   "cell_type": "code",
   "execution_count": 21,
   "id": "cbcb9479",
   "metadata": {},
   "outputs": [],
   "source": [
    "import pandas as pd          # Pandas is used to work with table-like data (DataFrames)\n",
    "import os                    # OS lets us work with folders and paths\n"
   ]
  },
  {
   "cell_type": "markdown",
   "id": "462e94c5",
   "metadata": {},
   "source": [
    "# Create a Storage Folder for Clean Copies"
   ]
  },
  {
   "cell_type": "code",
   "execution_count": 22,
   "id": "533d5bc8",
   "metadata": {},
   "outputs": [],
   "source": [
    "# Create a folder named 'data' if it doesn't already exist\n",
    "os.makedirs(\"data\", exist_ok=True)\n"
   ]
  },
  {
   "cell_type": "markdown",
   "id": "9f9fde63",
   "metadata": {},
   "source": [
    "# Analysis of raw_data.csv"
   ]
  },
  {
   "cell_type": "code",
   "execution_count": 23,
   "id": "82c26083",
   "metadata": {},
   "outputs": [
    {
     "name": "stdout",
     "output_type": "stream",
     "text": [
      " First 5 rows of raw_data.csv:\n",
      "\n",
      "   order_id customer_name product  quantity  unit_price  order_date region\n",
      "0         1         Diana  Tablet       NaN       500.0  2024-01-20  South\n",
      "1         2           Eve  Laptop       NaN         NaN  2024-04-29  North\n",
      "2         3       Charlie  Laptop       2.0       250.0  2024-01-08    NaN\n",
      "3         4           Eve  Laptop       2.0       750.0  2024-01-07   West\n",
      "4         5           Eve  Tablet       3.0         NaN  2024-03-07  South\n"
     ]
    }
   ],
   "source": [
    "print(\" First 5 rows of raw_data.csv:\\n\")\n",
    "print(raw_df.head())\n"
   ]
  },
  {
   "cell_type": "code",
   "execution_count": 24,
   "id": "cdca48e9",
   "metadata": {},
   "outputs": [
    {
     "name": "stdout",
     "output_type": "stream",
     "text": [
      "\n",
      " Structure and column info for raw_data.csv:\n",
      "\n",
      "<class 'pandas.core.frame.DataFrame'>\n",
      "RangeIndex: 100 entries, 0 to 99\n",
      "Data columns (total 7 columns):\n",
      " #   Column         Non-Null Count  Dtype  \n",
      "---  ------         --------------  -----  \n",
      " 0   order_id       100 non-null    int64  \n",
      " 1   customer_name  99 non-null     object \n",
      " 2   product        100 non-null    object \n",
      " 3   quantity       74 non-null     float64\n",
      " 4   unit_price     65 non-null     float64\n",
      " 5   order_date     99 non-null     object \n",
      " 6   region         75 non-null     object \n",
      "dtypes: float64(2), int64(1), object(4)\n",
      "memory usage: 5.6+ KB\n",
      "None\n"
     ]
    }
   ],
   "source": [
    "print(\"\\n Structure and column info for raw_data.csv:\\n\")\n",
    "print(raw_df.info())\n"
   ]
  },
  {
   "cell_type": "code",
   "execution_count": 25,
   "id": "eae89380",
   "metadata": {},
   "outputs": [
    {
     "name": "stdout",
     "output_type": "stream",
     "text": [
      "\n",
      " Missing values in raw_data.csv:\n",
      "\n",
      "order_id          0\n",
      "customer_name     1\n",
      "product           0\n",
      "quantity         26\n",
      "unit_price       35\n",
      "order_date        1\n",
      "region           25\n",
      "dtype: int64\n"
     ]
    }
   ],
   "source": [
    "print(\"\\n Missing values in raw_data.csv:\\n\")\n",
    "print(raw_df.isnull().sum())\n"
   ]
  },
  {
   "cell_type": "code",
   "execution_count": 26,
   "id": "97443296",
   "metadata": {},
   "outputs": [
    {
     "name": "stdout",
     "output_type": "stream",
     "text": [
      "\n",
      " Duplicate rows in raw_data.csv: 1\n"
     ]
    }
   ],
   "source": [
    "print(\"\\n Duplicate rows in raw_data.csv:\", raw_df.duplicated().sum())\n"
   ]
  },
  {
   "cell_type": "markdown",
   "id": "df297c57",
   "metadata": {},
   "source": [
    "# Analysis of incremental_data.csv"
   ]
  },
  {
   "cell_type": "code",
   "execution_count": 27,
   "id": "8199525a",
   "metadata": {},
   "outputs": [
    {
     "name": "stdout",
     "output_type": "stream",
     "text": [
      "\n",
      "\n",
      "======  ANALYSIS: INCREMENTAL DATA ======\n",
      "\n",
      " First 5 rows of incremental_data.csv:\n",
      "\n",
      "   order_id customer_name product  quantity  unit_price  order_date   region\n",
      "0       101         Alice  Laptop       NaN       900.0  2024-05-09  Central\n",
      "1       102           NaN  Laptop       1.0       300.0  2024-05-07  Central\n",
      "2       103           NaN  Laptop       1.0       600.0  2024-05-04  Central\n",
      "3       104           NaN  Tablet       NaN       300.0  2024-05-26  Central\n",
      "4       105         Heidi  Tablet       2.0       600.0  2024-05-21    North\n"
     ]
    }
   ],
   "source": [
    "print(\"\\n\\n======  ANALYSIS: INCREMENTAL DATA ======\\n\")\n",
    "print(\" First 5 rows of incremental_data.csv:\\n\")\n",
    "print(incr_df.head())\n"
   ]
  },
  {
   "cell_type": "code",
   "execution_count": 28,
   "id": "fbf152b6",
   "metadata": {},
   "outputs": [
    {
     "name": "stdout",
     "output_type": "stream",
     "text": [
      "\n",
      " Structure and column info for incremental_data.csv:\n",
      "\n",
      "<class 'pandas.core.frame.DataFrame'>\n",
      "RangeIndex: 10 entries, 0 to 9\n",
      "Data columns (total 7 columns):\n",
      " #   Column         Non-Null Count  Dtype  \n",
      "---  ------         --------------  -----  \n",
      " 0   order_id       10 non-null     int64  \n",
      " 1   customer_name  4 non-null      object \n",
      " 2   product        10 non-null     object \n",
      " 3   quantity       6 non-null      float64\n",
      " 4   unit_price     10 non-null     float64\n",
      " 5   order_date     10 non-null     object \n",
      " 6   region         8 non-null      object \n",
      "dtypes: float64(2), int64(1), object(4)\n",
      "memory usage: 692.0+ bytes\n",
      "None\n"
     ]
    }
   ],
   "source": [
    "print(\"\\n Structure and column info for incremental_data.csv:\\n\")\n",
    "print(incr_df.info())\n"
   ]
  },
  {
   "cell_type": "code",
   "execution_count": 29,
   "id": "88ed7a7c",
   "metadata": {},
   "outputs": [
    {
     "name": "stdout",
     "output_type": "stream",
     "text": [
      "\n",
      " Missing values in incremental_data.csv:\n",
      "\n",
      "order_id         0\n",
      "customer_name    6\n",
      "product          0\n",
      "quantity         4\n",
      "unit_price       0\n",
      "order_date       0\n",
      "region           2\n",
      "dtype: int64\n"
     ]
    }
   ],
   "source": [
    "print(\"\\n Missing values in incremental_data.csv:\\n\")\n",
    "print(incr_df.isnull().sum())\n"
   ]
  },
  {
   "cell_type": "code",
   "execution_count": 30,
   "id": "00e3f7b8",
   "metadata": {},
   "outputs": [
    {
     "name": "stdout",
     "output_type": "stream",
     "text": [
      "\n",
      "🔹 Duplicate rows in incremental_data.csv: 0\n"
     ]
    }
   ],
   "source": [
    "print(\"\\n🔹 Duplicate rows in incremental_data.csv:\", incr_df.duplicated().sum())\n"
   ]
  },
  {
   "cell_type": "markdown",
   "id": "15b73999",
   "metadata": {},
   "source": [
    "# Save Clean Copies of the Raw Data"
   ]
  },
  {
   "cell_type": "code",
   "execution_count": 31,
   "id": "45db2a9b",
   "metadata": {},
   "outputs": [
    {
     "name": "stdout",
     "output_type": "stream",
     "text": [
      "\n",
      " raw_data_cleaned.csv saved to 'data/'\n",
      "incremental_data_cleaned.csv saved to 'data/'\n"
     ]
    }
   ],
   "source": [
    "# Save a copy of the raw data (unmodified) for backup\n",
    "raw_df.to_csv(\"data/raw_data_cleaned.csv\", index=False)\n",
    "print(\"\\n raw_data_cleaned.csv saved to 'data/'\")\n",
    "\n",
    "# Save a copy of the incremental data\n",
    "incr_df.to_csv(\"data/incremental_data_cleaned.csv\", index=False)\n",
    "print(\"incremental_data_cleaned.csv saved to 'data/'\")\n"
   ]
  },
  {
   "cell_type": "markdown",
   "id": "26aef98e",
   "metadata": {},
   "source": [
    "#  Initial Observations"
   ]
  },
  {
   "cell_type": "code",
   "execution_count": 32,
   "id": "6bad783d",
   "metadata": {},
   "outputs": [
    {
     "name": "stdout",
     "output_type": "stream",
     "text": [
      "\n",
      "Initial Observations:\n",
      "\n",
      "raw_data.csv:\n",
      "- There is 1 missing value in 'customer_name'.\n",
      "- 'quantity' has 26 missing entries, and 'unit_price' is missing in 35 rows.\n",
      "- 'order_date' has 1 missing value.\n",
      "- There is 1 exact duplicate row that will need to be removed.\n",
      "\n",
      "incremental_data.csv:\n",
      "- 'customer_name' has 6 missing values.\n",
      "- 'quantity' is missing in 4 rows.\n",
      "- 'region' is missing in 25 rows.\n",
      "- No duplicate rows were found in this dataset.\n",
      "\n",
      "- Both datasets have similar structure, which will make merging easier.\n",
      "- Missing values in key fields like 'unit_price', 'quantity', and 'region' should be addressed in the data cleaning step.\n",
      "\n"
     ]
    }
   ],
   "source": [
    "print(\"\"\"\n",
    "Initial Observations:\n",
    "\n",
    "raw_data.csv:\n",
    "- There is 1 missing value in 'customer_name'.\n",
    "- 'quantity' has 26 missing entries, and 'unit_price' is missing in 35 rows.\n",
    "- 'order_date' has 1 missing value.\n",
    "- There is 1 exact duplicate row that will need to be removed.\n",
    "\n",
    "incremental_data.csv:\n",
    "- 'customer_name' has 6 missing values.\n",
    "- 'quantity' is missing in 4 rows.\n",
    "- 'region' is missing in 25 rows.\n",
    "- No duplicate rows were found in this dataset.\n",
    "\n",
    "- Both datasets have similar structure, which will make merging easier.\n",
    "- Missing values in key fields like 'unit_price', 'quantity', and 'region' should be addressed in the data cleaning step.\n",
    "\"\"\")\n"
   ]
  }
 ],
 "metadata": {
  "kernelspec": {
   "display_name": "Python 3",
   "language": "python",
   "name": "python3"
  },
  "language_info": {
   "codemirror_mode": {
    "name": "ipython",
    "version": 3
   },
   "file_extension": ".py",
   "mimetype": "text/x-python",
   "name": "python",
   "nbconvert_exporter": "python",
   "pygments_lexer": "ipython3",
   "version": "3.12.10"
  }
 },
 "nbformat": 4,
 "nbformat_minor": 5
}
